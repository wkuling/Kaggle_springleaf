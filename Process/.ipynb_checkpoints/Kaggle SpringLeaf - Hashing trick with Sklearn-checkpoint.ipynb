{
 "cells": [
  {
   "cell_type": "code",
   "execution_count": 5,
   "metadata": {
    "collapsed": true
   },
   "outputs": [],
   "source": [
    "# Importing packages\n",
    "\n",
    "import math\n",
    "from csv import DictReader\n",
    "\n",
    "import pandas as pd\n",
    "import numpy as np\n",
    "\n",
    "from scipy import sparse\n",
    "\n",
    "from sklearn import linear_model\n",
    "from sklearn import tree\n",
    "from sklearn.linear_model import LogisticRegression\n",
    "from sklearn.preprocessing import StandardScaler"
   ]
  },
  {
   "cell_type": "code",
   "execution_count": 2,
   "metadata": {
    "collapsed": true
   },
   "outputs": [],
   "source": [
    "# Paths\n",
    "\n",
    "train='C:/Users/m01i795/iPython Notebooks/Kaggle/Input/train.csv'\n",
    "test='C:/Users/m01i795/iPython Notebooks/Kaggle/Input/test.csv'\n",
    "submission = 'C:/Users/m01i795/iPython Notebooks/Kaggle/Output/sgd_subm8.csv'  # path of to be outputted submission file"
   ]
  },
  {
   "cell_type": "code",
   "execution_count": 3,
   "metadata": {
    "collapsed": true
   },
   "outputs": [],
   "source": [
    "# Parameters\n",
    "\n",
    "D = 2 ** 24            # number of weights to use"
   ]
  },
  {
   "cell_type": "code",
   "execution_count": 4,
   "metadata": {
    "collapsed": true
   },
   "outputs": [],
   "source": [
    "# Hashing function (one hot encoding + hashing)\n",
    "\n",
    "def datahasher(path, D):\n",
    "    ''' GENERATOR: Apply hash-trick to the original csv row\n",
    "                   and for simplicity, we one-hot-encode everything\n",
    "\n",
    "        INPUT:\n",
    "            path: path to training or testing file\n",
    "            D: the max index that we can hash to\n",
    "\n",
    "        YIELDS:\n",
    "            ID: id of the instance, mainly useless\n",
    "            x: a list of hashed and one-hot-encoded 'indices'\n",
    "               we only need the index since all values are either 0 or 1\n",
    "            y: y = 1 if we have a click, else we have y = 0\n",
    "    '''\n",
    "\n",
    "    for t, row in enumerate(DictReader(open(path), delimiter=',')):\n",
    "      \n",
    "        try:\n",
    "            ID=row['ID']\n",
    "            del row['ID']\n",
    "        except:\n",
    "            pass\n",
    "        # process clicks\n",
    "        y = 0.\n",
    "        target='target'\n",
    "        if target in row:\n",
    "            if row[target] == '1':\n",
    "                y = 1.\n",
    "            del row[target]\n",
    "\n",
    "        # extract date\n",
    "\n",
    "        # turn hour really into hour, it was originally YYMMDDHH\n",
    "\n",
    "        # build x\n",
    "        x = []\n",
    "        for key in row:\n",
    "            value = row[key]\n",
    "\n",
    "            # one-hot encode everything with hash trick\n",
    "            index = abs(hash(key + '_' + value)) % D\n",
    "            x.append(index)\n",
    "\n",
    "        yield ID, x, y"
   ]
  },
  {
   "cell_type": "code",
   "execution_count": 8,
   "metadata": {
    "collapsed": false
   },
   "outputs": [
    {
     "name": "stdout",
     "output_type": "stream",
     "text": [
      "[ 1  4  5  4 15 16]\n"
     ]
    }
   ],
   "source": [
    "# Create row, col, data arrays (feature and target) by calling datahasher\n",
    "# Note that data are only 1's, as everything is one-hot-encoded...\n",
    "\n",
    "col_features = np.array([])\n",
    "row_features = np.array([])\n",
    "col_label = np.array([])\n",
    "row_label = np.array([])\n",
    "\n",
    "count = 0\n",
    "for t, x, y in data(train, D):  # data is a generator\n",
    "    \n",
    "    # Building the features matrix\n",
    "    col_features = np.concatenate((col_features, x), axis=1)\n",
    "    to_row = np.full(len(x), count)\n",
    "    row_features = np.concatenate((row_features,to_row), axis=1)\n",
    "    \n",
    "    # Building the labels matrix\n",
    "    \n",
    "    col_label = np.concatenate((col_label, y), axis=1)\n",
    "    row_label = np.concatenate((row_label, count), axis=1)\n",
    "    \n",
    "    count+=1\n",
    "    \n",
    "    if count%15000==0:\n",
    "        print('%s\\tencountered: %d\\t' % (datetime.now(), count))"
   ]
  },
  {
   "cell_type": "code",
   "execution_count": null,
   "metadata": {
    "collapsed": true
   },
   "outputs": [],
   "source": [
    "# Create COO matrix"
   ]
  },
  {
   "cell_type": "code",
   "execution_count": null,
   "metadata": {
    "collapsed": true
   },
   "outputs": [],
   "source": [
    "# Final step of preprocessing: create CSR matrix from COO matrices"
   ]
  },
  {
   "cell_type": "code",
   "execution_count": null,
   "metadata": {
    "collapsed": true
   },
   "outputs": [],
   "source": [
    "# Make train and test split using Sklearn train_test_split"
   ]
  },
  {
   "cell_type": "code",
   "execution_count": null,
   "metadata": {
    "collapsed": true
   },
   "outputs": [],
   "source": [
    "# Now, run LR, RF, SVM straight out of Sklearn"
   ]
  },
  {
   "cell_type": "code",
   "execution_count": null,
   "metadata": {
    "collapsed": true
   },
   "outputs": [],
   "source": [
    "# And try some XGBoost"
   ]
  },
  {
   "cell_type": "code",
   "execution_count": null,
   "metadata": {
    "collapsed": true
   },
   "outputs": [],
   "source": []
  },
  {
   "cell_type": "code",
   "execution_count": null,
   "metadata": {
    "collapsed": true
   },
   "outputs": [],
   "source": []
  },
  {
   "cell_type": "code",
   "execution_count": null,
   "metadata": {
    "collapsed": true
   },
   "outputs": [],
   "source": []
  }
 ],
 "metadata": {
  "kernelspec": {
   "display_name": "Python 2",
   "language": "python",
   "name": "python2"
  },
  "language_info": {
   "codemirror_mode": {
    "name": "ipython",
    "version": 2
   },
   "file_extension": ".py",
   "mimetype": "text/x-python",
   "name": "python",
   "nbconvert_exporter": "python",
   "pygments_lexer": "ipython2",
   "version": "2.7.9"
  }
 },
 "nbformat": 4,
 "nbformat_minor": 0
}
