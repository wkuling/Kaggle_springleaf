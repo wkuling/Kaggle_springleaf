{
 "cells": [
  {
   "cell_type": "code",
   "execution_count": 1,
   "metadata": {
    "collapsed": true
   },
   "outputs": [],
   "source": [
    "# coding: utf-8\n",
    "\"\"\"\n",
    "Beating the benchmark @ Kaggle Springleaf\n",
    "@author: Abhishek Thakur\n",
    "\"\"\"\n",
    "\n",
    "import pandas as pd\n",
    "import numpy as np\n",
    "import xgboost as xgb\n",
    "from sklearn import preprocessing, linear_model"
   ]
  },
  {
   "cell_type": "code",
   "execution_count": 2,
   "metadata": {
    "collapsed": false
   },
   "outputs": [
    {
     "name": "stderr",
     "output_type": "stream",
     "text": [
      "/Users/wendellkuling/anaconda/lib/python2.7/site-packages/pandas/io/parsers.py:1170: DtypeWarning: Columns (8,9,10,11,12,43,157,196,214,225,228,229,231,235,238) have mixed types. Specify dtype option on import or set low_memory=False.\n",
      "  data = self._reader.read(nrows)\n",
      "/Users/wendellkuling/anaconda/lib/python2.7/site-packages/pandas/io/parsers.py:1170: DtypeWarning: Columns (8,9,10,11,12,43,157,167,177,196,214,225,228,229,231,235,238) have mixed types. Specify dtype option on import or set low_memory=False.\n",
      "  data = self._reader.read(nrows)\n"
     ]
    }
   ],
   "source": [
    "train = pd.read_csv('~/ipython/Kaggle_springleaf/Input/train.csv')\n",
    "test = pd.read_csv('~/ipython/Kaggle_springleaf/Input/test.csv')"
   ]
  },
  {
   "cell_type": "code",
   "execution_count": 3,
   "metadata": {
    "collapsed": true
   },
   "outputs": [],
   "source": [
    "y = train.target.values\n",
    "train = train.drop(['ID', 'target'], axis=1)\n",
    "test = test.drop('ID', axis=1)"
   ]
  },
  {
   "cell_type": "code",
   "execution_count": 4,
   "metadata": {
    "collapsed": true
   },
   "outputs": [],
   "source": [
    "train = train.dropna(axis=1, thresh=2000)\n",
    "test = test.dropna(axis=1, thresh=2000)\n",
    "\n",
    "train = train.fillna(-1)\n",
    "test = test.fillna(-1)"
   ]
  },
  {
   "cell_type": "code",
   "execution_count": 5,
   "metadata": {
    "collapsed": false
   },
   "outputs": [
    {
     "name": "stdout",
     "output_type": "stream",
     "text": [
      "VAR_0001\n",
      "VAR_0005\n",
      "VAR_0008\n",
      "VAR_0009\n",
      "VAR_0010\n",
      "VAR_0011\n",
      "VAR_0012\n",
      "VAR_0043\n",
      "VAR_0044\n",
      "VAR_0073\n",
      "VAR_0075\n",
      "VAR_0156\n",
      "VAR_0158\n",
      "VAR_0159\n",
      "VAR_0166\n",
      "VAR_0167\n",
      "VAR_0168\n",
      "VAR_0169\n",
      "VAR_0176\n",
      "VAR_0177\n",
      "VAR_0178\n",
      "VAR_0179\n",
      "VAR_0196\n",
      "VAR_0200\n",
      "VAR_0202\n",
      "VAR_0204\n",
      "VAR_0216\n",
      "VAR_0217\n",
      "VAR_0222\n",
      "VAR_0226\n",
      "VAR_0229\n",
      "VAR_0230\n",
      "VAR_0232\n",
      "VAR_0236\n",
      "VAR_0237\n",
      "VAR_0239\n",
      "VAR_0274\n",
      "VAR_0283\n",
      "VAR_0305\n",
      "VAR_0325\n",
      "VAR_0342\n",
      "VAR_0352\n",
      "VAR_0353\n",
      "VAR_0354\n",
      "VAR_0404\n",
      "VAR_0466\n",
      "VAR_0467\n",
      "VAR_0493\n",
      "VAR_1934\n"
     ]
    }
   ],
   "source": [
    "for f in train.columns:\n",
    "    if train[f].dtype=='object': \n",
    "        print f\n",
    "        lbl = preprocessing.LabelEncoder()\n",
    "        lbl.fit(list(train[f].values) + list(test[f].values))\n",
    "        train[f] = lbl.transform(list(train[f].values))\n",
    "        test[f] = lbl.transform(list(test[f].values))                    "
   ]
  },
  {
   "cell_type": "code",
   "execution_count": 6,
   "metadata": {
    "collapsed": true
   },
   "outputs": [],
   "source": [
    "X = np.array(train)\n",
    "X_test = np.array(test)\n",
    "clf = xgb.XGBClassifier(n_estimators=5000, nthread=-1, max_depth=17,\n",
    "                        learning_rate=0.01, silent=False, subsample=0.8, colsample_bytree=0.7)"
   ]
  },
  {
   "cell_type": "code",
   "execution_count": null,
   "metadata": {
    "collapsed": true
   },
   "outputs": [],
   "source": [
    "clf.fit(X, y)"
   ]
  },
  {
   "cell_type": "code",
   "execution_count": null,
   "metadata": {
    "collapsed": true
   },
   "outputs": [],
   "source": [
    "preds = clf.predict_proba(X_test)[:,1]\n",
    "sample = pd.read_csv('~/ipython/Kaggle_springleaf/Input/sample_submission.csv')\n",
    "sample.target = preds\n",
    "sample.to_csv('~/ipython/Kaggle_springleaf/Output/benchmarkxgb.csv', index=False)"
   ]
  },
  {
   "cell_type": "code",
   "execution_count": null,
   "metadata": {
    "collapsed": true
   },
   "outputs": [],
   "source": []
  }
 ],
 "metadata": {
  "kernelspec": {
   "display_name": "Python 2",
   "language": "python",
   "name": "python2"
  },
  "language_info": {
   "codemirror_mode": {
    "name": "ipython",
    "version": 2
   },
   "file_extension": ".py",
   "mimetype": "text/x-python",
   "name": "python",
   "nbconvert_exporter": "python",
   "pygments_lexer": "ipython2",
   "version": "2.7.10"
  }
 },
 "nbformat": 4,
 "nbformat_minor": 0
}
