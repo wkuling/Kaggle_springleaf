{
 "cells": [
  {
   "cell_type": "markdown",
   "metadata": {
    "collapsed": false
   },
   "source": [
    "# Kaggle Springleaf competition\n",
    "\n",
    "Beating the benchmark @ Kaggle Springleaf\n",
    "\n",
    "Basis code provided by Abhishek Thakur\n",
    "\n",
    "Further edits made by Wendell Kuling"
   ]
  },
  {
   "cell_type": "code",
   "execution_count": 1,
   "metadata": {
    "collapsed": false
   },
   "outputs": [],
   "source": [
    "import pandas as pd\n",
    "import numpy as np\n",
    "import xgboost as xgb\n",
    "import re\n",
    "from datetime import datetime\n",
    "\n",
    "from sklearn import preprocessing, linear_model\n",
    "%matplotlib inline"
   ]
  },
  {
   "cell_type": "markdown",
   "metadata": {},
   "source": [
    "Reading the data in the Pandas Dataframe"
   ]
  },
  {
   "cell_type": "code",
   "execution_count": 2,
   "metadata": {
    "collapsed": false
   },
   "outputs": [
    {
     "name": "stderr",
     "output_type": "stream",
     "text": [
      "/Users/wendellkuling/anaconda/lib/python2.7/site-packages/pandas/io/parsers.py:1170: DtypeWarning: Columns (8,9,10,11,12,43,157,196,214,225,228,229,231,235,238) have mixed types. Specify dtype option on import or set low_memory=False.\n",
      "  data = self._reader.read(nrows)\n",
      "/Users/wendellkuling/anaconda/lib/python2.7/site-packages/pandas/io/parsers.py:1170: DtypeWarning: Columns (8,9,10,11,12,43,157,167,177,196,214,225,228,229,231,235,238) have mixed types. Specify dtype option on import or set low_memory=False.\n",
      "  data = self._reader.read(nrows)\n"
     ]
    }
   ],
   "source": [
    "train = pd.read_csv('~/ipython/Kaggle_springleaf/Input/train.csv')\n",
    "test = pd.read_csv('~/ipython/Kaggle_springleaf/Input/test.csv')"
   ]
  },
  {
   "cell_type": "markdown",
   "metadata": {},
   "source": [
    "The error messages can be ignored, they also appear when specifying the data type"
   ]
  },
  {
   "cell_type": "markdown",
   "metadata": {},
   "source": [
    "# 1. Data exploration"
   ]
  },
  {
   "cell_type": "markdown",
   "metadata": {},
   "source": [
    "Quick exploration of the data. Ommitted here for readability."
   ]
  },
  {
   "cell_type": "code",
   "execution_count": 3,
   "metadata": {
    "collapsed": false
   },
   "outputs": [],
   "source": [
    "# train.head(5).T"
   ]
  },
  {
   "cell_type": "code",
   "execution_count": 4,
   "metadata": {
    "collapsed": true
   },
   "outputs": [],
   "source": [
    "# train.info()"
   ]
  },
  {
   "cell_type": "code",
   "execution_count": 5,
   "metadata": {
    "collapsed": true
   },
   "outputs": [],
   "source": [
    "# train.describe()"
   ]
  },
  {
   "cell_type": "markdown",
   "metadata": {},
   "source": [
    "# 2. Data preprocessing"
   ]
  },
  {
   "cell_type": "markdown",
   "metadata": {},
   "source": [
    "## 2.1 Splitting off the target and the ID column"
   ]
  },
  {
   "cell_type": "markdown",
   "metadata": {},
   "source": [
    "First, store the target variable in a Pandas series y and stripping the ID and target from the feature dataframes"
   ]
  },
  {
   "cell_type": "code",
   "execution_count": 6,
   "metadata": {
    "collapsed": true
   },
   "outputs": [],
   "source": [
    "y = train.target.values\n",
    "train = train.drop(['ID', 'target'], axis=1)\n",
    "test = test.drop('ID', axis=1)"
   ]
  },
  {
   "cell_type": "markdown",
   "metadata": {},
   "source": [
    "A first important decision is how to deal with the missing values. Sometimes, the missing values are 'NAs', sometimes they might be '-1' or strings containing '99'. However, a lesson learned is that an attempt to make this consistent up-front, shows a drop in performance."
   ]
  },
  {
   "cell_type": "markdown",
   "metadata": {},
   "source": [
    "## 2.2 Dealing with missing values"
   ]
  },
  {
   "cell_type": "markdown",
   "metadata": {},
   "source": [
    "One of the tricks, is to first count the number of NAs and '99s' (outliers) per row."
   ]
  },
  {
   "cell_type": "code",
   "execution_count": 7,
   "metadata": {
    "collapsed": false
   },
   "outputs": [],
   "source": [
    "# Add a row wise count of NA’s \n",
    "\n",
    "train['NumbNAs'] = train.apply(lambda x : x.isnull().sum(), axis = 1)\n",
    "test['NumbNAs'] = train.apply(lambda x : x.isnull().sum(), axis = 1)"
   ]
  },
  {
   "cell_type": "code",
   "execution_count": 8,
   "metadata": {
    "collapsed": false
   },
   "outputs": [],
   "source": [
    "# and row wise count of outliers (those 999…’s). \n",
    "\n",
    "train['Numb99s'] = train.apply(lambda x : x.astype(str).str.contains('99').sum(), axis = 1)\n",
    "test['Numb99s'] = test.apply(lambda x : x.astype(str).str.contains('99').sum(), axis = 1)"
   ]
  },
  {
   "cell_type": "code",
   "execution_count": 9,
   "metadata": {
    "collapsed": false
   },
   "outputs": [],
   "source": [
    "# and row-wise count of -1's\n",
    "\n",
    "train['Numb-1s'] = train.apply(lambda x : x.astype(str).str.endswith('-1').sum(), axis = 1)\n",
    "test['Numb-1s'] = test.apply(lambda x : x.astype(str).str.endswith('-1').sum(), axis = 1)"
   ]
  },
  {
   "cell_type": "markdown",
   "metadata": {},
   "source": [
    "Although even only columns with NA vs. 'False' might imply information, it turns out that just dropping these low cardinality columns gives the best results."
   ]
  },
  {
   "cell_type": "code",
   "execution_count": 10,
   "metadata": {
    "collapsed": true
   },
   "outputs": [],
   "source": [
    "train = train.dropna(axis=1, thresh=2000)\n",
    "test = test.dropna(axis=1, thresh=2000)"
   ]
  },
  {
   "cell_type": "code",
   "execution_count": 11,
   "metadata": {
    "collapsed": true
   },
   "outputs": [],
   "source": [
    "train = train.fillna(-1)\n",
    "test = test.fillna(-1)"
   ]
  },
  {
   "cell_type": "markdown",
   "metadata": {},
   "source": [
    "## 2.3 Processing time-related variables: right format and distances between them"
   ]
  },
  {
   "cell_type": "code",
   "execution_count": 12,
   "metadata": {
    "collapsed": true
   },
   "outputs": [],
   "source": [
    "# Helper function to process some of the day observations\n",
    "def timetodaysago(timeobs):\n",
    "    try:\n",
    "        d0 = datetime.strptime(timeobs[:7], '%d%b%y')\n",
    "        d1 = datetime.strptime('01SEP15', '%d%b%y')\n",
    "        delta = d1 - d0\n",
    "        return delta.days\n",
    "    except:\n",
    "        return timeobs"
   ]
  },
  {
   "cell_type": "code",
   "execution_count": 13,
   "metadata": {
    "collapsed": true
   },
   "outputs": [],
   "source": [
    "def isdate(seriestocheck):\n",
    "    p = re.compile(r'\\w{7}:\\d{2}:\\d{2}:\\d{2}') # regex for our datetime format\n",
    "    for check in seriestocheck:\n",
    "        if p.match(str(check)):\n",
    "            return True"
   ]
  },
  {
   "cell_type": "markdown",
   "metadata": {},
   "source": [
    "First, converting the time stamps to a useful number"
   ]
  },
  {
   "cell_type": "code",
   "execution_count": 14,
   "metadata": {
    "collapsed": false
   },
   "outputs": [],
   "source": [
    "datecolumns = []\n",
    "for f in train.columns:\n",
    "    top_values = pd.Series(list(train[f].value_counts().keys()))[:10]\n",
    "    if isdate(top_values):\n",
    "        # print \"Variable: \" + f + \" is of type date. Converting.\"\n",
    "        datecolumns.append(f)\n",
    "        train[f]=train[f].map(timetodaysago)\n",
    "        train[f]=train[f].astype('float64')\n",
    "        test[f]=test[f].map(timetodaysago)\n",
    "        test[f]=test[f].astype('float64')"
   ]
  },
  {
   "cell_type": "markdown",
   "metadata": {},
   "source": [
    "Second, calculating the distances between the time stamps"
   ]
  },
  {
   "cell_type": "code",
   "execution_count": 15,
   "metadata": {
    "collapsed": false
   },
   "outputs": [],
   "source": [
    "import itertools\n",
    "\n",
    "for pair in itertools.combinations(datecolumns, 2):\n",
    "    # print \"Adding distance between \", pair\n",
    "    train[pair[0]+pair[1]] = train[pair[0]] - train[pair[1]]\n",
    "    test[pair[0]+pair[1]] = test[pair[0]] - test[pair[1]]"
   ]
  },
  {
   "cell_type": "markdown",
   "metadata": {},
   "source": [
    "## 2.4 Dealing with location-based features\n",
    "\n",
    "Zip code var 241, 212 (+ID?), 274, 237\n",
    "\n",
    "Although it seemed logical to me to drop the high-cardinality variables like zip-code, as I expected that an algorithm treating this as a numerical variable would be confused as to the predictive value, from the Kaggle posts it seemed that variable 212 (zip+ID) turns out to have quite an important predictive value.\n",
    "\n",
    "Way to handle them: \n",
    "* Keeping the values in 274, 237 (they will be label-encoded below)\n",
    "* Adding the mean of the target variable for both 274 and 237 (clustering)\n",
    "* Dropping 241\n",
    "* Keep in 212 as a numerical variable"
   ]
  },
  {
   "cell_type": "code",
   "execution_count": 16,
   "metadata": {
    "collapsed": false
   },
   "outputs": [
    {
     "name": "stderr",
     "output_type": "stream",
     "text": [
      "/Users/wendellkuling/anaconda/lib/python2.7/site-packages/ipykernel/__main__.py:2: SettingWithCopyWarning: \n",
      "A value is trying to be set on a copy of a slice from a DataFrame.\n",
      "Try using .loc[row_indexer,col_indexer] = value instead\n",
      "\n",
      "See the the caveats in the documentation: http://pandas.pydata.org/pandas-docs/stable/indexing.html#indexing-view-versus-copy\n",
      "  from ipykernel import kernelapp as app\n"
     ]
    }
   ],
   "source": [
    "temp = train[['VAR_0274', 'VAR_0237']]\n",
    "temp['target'] = y\n",
    "\n",
    "# Putting np.nan back in to facilitate the working of groupby (calculating mean)\n",
    "temp = temp.applymap(lambda x: np.nan if x == -1 else x)\n",
    "\n",
    "tempmean_237 = temp.groupby(['VAR_0237']).mean()\n",
    "searchmean_237 = tempmean_237['target'].to_dict()\n",
    "\n",
    "tempmean_274 = temp.groupby(['VAR_0274']).mean()\n",
    "searchmean_274 = tempmean_274['target'].to_dict()\n",
    "\n",
    "train['at_237'] = train['VAR_0237'].map(lambda x: searchmean_237[x] if (x in searchmean_237) else -1)\n",
    "test['at_237'] = test['VAR_0237'].map(lambda x: searchmean_237[x] if (x in searchmean_237) else -1)\n",
    "\n",
    "train['at_274'] = train['VAR_0274'].map(lambda x: searchmean_274[x] if (x in searchmean_274) else -1)\n",
    "test['at_274'] = test['VAR_0274'].map(lambda x: searchmean_274[x] if (x in searchmean_274) else -1)\n"
   ]
  },
  {
   "cell_type": "markdown",
   "metadata": {},
   "source": [
    "Dropping the 241 variable of the zip-code now. Note that the description of the location (2741 and 237) will be label-encoded below."
   ]
  },
  {
   "cell_type": "code",
   "execution_count": 17,
   "metadata": {
    "collapsed": true
   },
   "outputs": [],
   "source": [
    "train.drop(['VAR_0241'], axis = 1, inplace = True)\n",
    "test.drop(['VAR_0241'], axis = 1, inplace = True)"
   ]
  },
  {
   "cell_type": "markdown",
   "metadata": {},
   "source": [
    "## 2.5 Dealing with age-related features"
   ]
  },
  {
   "cell_type": "markdown",
   "metadata": {},
   "source": [
    "From https://www.kaggle.com/darraghdog/springleaf-marketing-response/grouping-numerics-springleaf\n",
    "We know that VAR_0254, VAR_0255 and VAR_0198 are likely to be age features\n",
    "\n",
    "Creating three columns: one with the best estimate for age, one with avg target score per age-category, \n",
    "* one with avg stdev of target per age-category \n",
    "* dropped the stdev one after experimentation"
   ]
  },
  {
   "cell_type": "code",
   "execution_count": 18,
   "metadata": {
    "collapsed": true
   },
   "outputs": [],
   "source": [
    "temp = train[['VAR_0254', 'VAR_0255', 'VAR_0198']]\n",
    "temp = temp.applymap(lambda x: np.nan if x == -1 else x)\n",
    "temp['age'] = temp.min(axis='columns')\n",
    "temp['age'] = temp['age'].astype(np.float64)\n",
    "temp.drop(['VAR_0254', 'VAR_0255', 'VAR_0198'], axis = 1, inplace = True)\n",
    "\n",
    "temp['target'] = y\n",
    "\n",
    "tempmean = temp.groupby(['age']).mean()\n",
    "searchmean = tempmean['target'].to_dict()\n",
    "\n",
    "# tempstd = temp.groupby(['age']).std()\n",
    "# searchstd = tempstd['target'].to_dict()\n",
    "\n",
    "temp['at_age'] = temp['age'].map(lambda x: searchmean[x] if (not pd.isnull(x)) else -1)\n",
    "# temp['st_age'] = temp['age'].map(lambda x: searchstd[x] if (not pd.isnull(x)) else -1)\n",
    "\n",
    "train['age'] = temp['age']\n",
    "train['at_age'] = temp['at_age']\n",
    "# train['st_age'] = temp['st_age']\n",
    "\n",
    "\n",
    "temp = test[['VAR_0254', 'VAR_0255', 'VAR_0198']]\n",
    "temp = temp.applymap(lambda x: np.nan if x == -1 else x)\n",
    "temp['age'] = temp.min(axis='columns')\n",
    "temp['age'] = temp['age'].astype(np.float64)\n",
    "temp['at_age'] = temp['age'].map(lambda x: searchmean[x] if (x in searchmean) else -1)\n",
    "# temp['st_age'] = temp['age'].map(lambda x: searchstd[x] if (x in searchstd) else -1)\n",
    "\n",
    "test['age'] = temp['age']\n",
    "test['at_age'] = temp['at_age']\n",
    "# test['st_age'] = temp['st_age']"
   ]
  },
  {
   "cell_type": "code",
   "execution_count": 19,
   "metadata": {
    "collapsed": false
   },
   "outputs": [],
   "source": [
    "train.drop(['VAR_0254', 'VAR_0255', 'VAR_0198'], axis = 1, inplace = True)\n",
    "test.drop(['VAR_0254', 'VAR_0255', 'VAR_0198'], axis = 1, inplace = True)"
   ]
  },
  {
   "cell_type": "markdown",
   "metadata": {},
   "source": [
    "## 2.6 Dealing with other categorical features"
   ]
  },
  {
   "cell_type": "markdown",
   "metadata": {},
   "source": [
    "I've struggled a lot with this part... Options considered were:\n",
    "* One-hot encoding all non-value types using pd.get_dummies (Cardinality <= 60 and at least 30 observations)\n",
    "* Hashing trick (for LR)\n",
    "\n",
    "However, just using Labelencoder turns out to work best in dealing with these variables when using XGBoost as classifier. The fact that XGBoost works on the best split of instances, can also be concluded by looking at the documentation from XGBoost on http://xgboost.readthedocs.org/en/latest/model.html#learn-the-tree-structure.\n",
    "\n",
    "So, although one-hot encoding would allow in theory for more relationships between the variables, it also makes the dataset more 'noisy'. This 'noise' effect proved to be much stronger than I expected initially. "
   ]
  },
  {
   "cell_type": "code",
   "execution_count": 20,
   "metadata": {
    "collapsed": false
   },
   "outputs": [],
   "source": [
    "for f in train.columns:\n",
    "    if train[f].dtype=='object': \n",
    "        # print f\n",
    "        lbl = preprocessing.LabelEncoder()\n",
    "        lbl.fit(list(train[f].values) + list(test[f].values))\n",
    "        train[f] = lbl.transform(list(train[f].values))\n",
    "        test[f] = lbl.transform(list(test[f].values))                    "
   ]
  },
  {
   "cell_type": "markdown",
   "metadata": {},
   "source": [
    "# 2.7 Clustering binary variables"
   ]
  },
  {
   "cell_type": "markdown",
   "metadata": {},
   "source": [
    "This section clusters the binary variables, as suggested by Mike Kim in https://www.kaggle.com/c/springleaf-marketing-response/forums/t/17081/solution-sharing. Unfortunately, the Sklearn version doesn't manage to cluster the features in memory using T-SNE (>50 GB). Therefore, switching to DBSCAN here."
   ]
  },
  {
   "cell_type": "code",
   "execution_count": 21,
   "metadata": {
    "collapsed": false
   },
   "outputs": [],
   "source": [
    "temptrain = pd.DataFrame()\n",
    "temptest = pd.DataFrame()\n",
    "lbl = preprocessing.LabelEncoder()\n",
    "\n",
    "for f in train.columns:\n",
    "    t = train[f].value_counts()\n",
    "    if (len(t) == 2):\n",
    "        # print f, \" is binary... adding to DataFrame to cluster\"\n",
    "        lbl.fit(list(train[f].values) + list(test[f].values)) # trick to convert to 0/1 always\n",
    "        train[f] = lbl.transform(list(train[f].values))\n",
    "        test[f] = lbl.transform(list(test[f].values))                    \n",
    "        temptrain[f] = train[f]\n",
    "        temptest[f] = test[f]"
   ]
  },
  {
   "cell_type": "code",
   "execution_count": 22,
   "metadata": {
    "collapsed": false
   },
   "outputs": [],
   "source": [
    "from sklearn.cluster import DBSCAN\n",
    "\n",
    "temptrain = np.array(temptrain)\n",
    "temptest = np.array(temptest)\n",
    "temp = np.concatenate((temptrain, temptest), axis=0)\n",
    "\n",
    "db = DBSCAN(eps=0.3, min_samples=500).fit(temp) # I want the clusters to be of a reasonable size\n",
    "labels = db.labels_"
   ]
  },
  {
   "cell_type": "code",
   "execution_count": 23,
   "metadata": {
    "collapsed": false
   },
   "outputs": [
    {
     "data": {
      "text/plain": [
       "<matplotlib.axes._subplots.AxesSubplot at 0x128568dd0>"
      ]
     },
     "execution_count": 23,
     "metadata": {},
     "output_type": "execute_result"
    },
    {
     "data": {
      "image/png": "[encoded data removed]",
      "text/plain": [
       "<matplotlib.figure.Figure at 0x146a5a750>"
      ]
     },
     "metadata": {},
     "output_type": "display_data"
    }
   ],
   "source": [
    "pd.Series(labels).plot(kind='hist')"
   ]
  },
  {
   "cell_type": "code",
   "execution_count": 24,
   "metadata": {
    "collapsed": false
   },
   "outputs": [
    {
     "name": "stdout",
     "output_type": "stream",
     "text": [
      "54\n"
     ]
    }
   ],
   "source": [
    "print max(labels)"
   ]
  },
  {
   "cell_type": "markdown",
   "metadata": {},
   "source": [
    "So, there are 54 clusters found in the binary data. Adding those to the original dataframes."
   ]
  },
  {
   "cell_type": "code",
   "execution_count": 25,
   "metadata": {
    "collapsed": true
   },
   "outputs": [],
   "source": [
    "train['cluster']=labels[:len(train)]"
   ]
  },
  {
   "cell_type": "code",
   "execution_count": 26,
   "metadata": {
    "collapsed": true
   },
   "outputs": [],
   "source": [
    "test['cluster']=labels[len(train):]"
   ]
  },
  {
   "cell_type": "markdown",
   "metadata": {
    "collapsed": true
   },
   "source": [
    "And that concludes the preprocessing"
   ]
  },
  {
   "cell_type": "markdown",
   "metadata": {},
   "source": [
    "# 3. Building the prediction model"
   ]
  },
  {
   "cell_type": "code",
   "execution_count": 27,
   "metadata": {
    "collapsed": true
   },
   "outputs": [],
   "source": [
    "X = np.array(train)\n",
    "X_test = np.array(test)"
   ]
  },
  {
   "cell_type": "code",
   "execution_count": 28,
   "metadata": {
    "collapsed": true
   },
   "outputs": [],
   "source": [
    "import pickle\n",
    "\n",
    "with open('X.pickle', 'wb') as handle:\n",
    "    pickle.dump(X, handle)\n",
    "\n",
    "with open('X_test.pickle', 'wb') as handle:\n",
    "    pickle.dump(X_test, handle)"
   ]
  },
  {
   "cell_type": "code",
   "execution_count": 29,
   "metadata": {
    "collapsed": false
   },
   "outputs": [],
   "source": [
    "dtrain = xgb.DMatrix(X, label=y, missing = np.nan)"
   ]
  },
  {
   "cell_type": "markdown",
   "metadata": {},
   "source": [
    "Setting the parameters for training"
   ]
  },
  {
   "cell_type": "code",
   "execution_count": 30,
   "metadata": {
    "collapsed": true
   },
   "outputs": [],
   "source": [
    "param = {\"objective\": \"binary:logistic\", \"eta\": 0.01, \"max_depth\": 17, \"min_child_weight\": 1, \n",
    "         \"subsample\": 0.8, \"colsample_bytree\": 0.7, \"eval_metric\":\"auc\"} \n",
    "\n",
    "num_rounds = 5000"
   ]
  },
  {
   "cell_type": "code",
   "execution_count": 31,
   "metadata": {
    "collapsed": true
   },
   "outputs": [],
   "source": [
    "clf = xgb.train(param, dtrain, num_rounds)"
   ]
  },
  {
   "cell_type": "markdown",
   "metadata": {},
   "source": [
    "Saving the model for future use"
   ]
  },
  {
   "cell_type": "code",
   "execution_count": 32,
   "metadata": {
    "collapsed": true
   },
   "outputs": [],
   "source": [
    "clf.save_model('0011710807.model')"
   ]
  },
  {
   "cell_type": "markdown",
   "metadata": {
    "collapsed": true
   },
   "source": [
    "Now, making the predictions"
   ]
  },
  {
   "cell_type": "code",
   "execution_count": 33,
   "metadata": {
    "collapsed": false
   },
   "outputs": [
    {
     "name": "stdout",
     "output_type": "stream",
     "text": [
      "[ 0.20149408  0.18852733  0.04277033  0.06356515  0.86489332  0.01058526\n",
      "  0.00275917  0.00316912  0.03029456  0.00159592]\n"
     ]
    }
   ],
   "source": [
    "dtest = xgb.DMatrix(X_test, missing = np.nan)\n",
    "preds = clf.predict(dtest)\n",
    "print preds[:10]"
   ]
  },
  {
   "cell_type": "markdown",
   "metadata": {},
   "source": [
    "#### Sidenote (lesson learned)\n",
    "\n",
    "I used to train through the Scikit-Learn Wrapper, but this had two important disadvantages:\n",
    "* It didn't allow me to set all the parameters (like num-rounds)\n",
    "* It didn't allow me to get feature importance (needed for the ensemble trick further down)\n",
    "\n",
    "```\n",
    "X = np.array(train)\n",
    "X_test = np.array(test)\n",
    "clf = xgb.XGBClassifier(n_estimators=5000, nthread=-1, max_depth=17, \n",
    "                        learning_rate=0.01, silent=False, subsample=0.8, colsample_bytree=0.7)\n",
    "\n",
    "# Starting the fitting of the model\n",
    "\n",
    "clf.fit(X, y, eval_metric = 'auc', verbose = True)\n",
    "```"
   ]
  },
  {
   "cell_type": "markdown",
   "metadata": {},
   "source": [
    "Writing the submission file"
   ]
  },
  {
   "cell_type": "code",
   "execution_count": 34,
   "metadata": {
    "collapsed": false
   },
   "outputs": [],
   "source": [
    "sample = pd.read_csv('~/ipython/Kaggle_springleaf/Input/sample_submission.csv')\n",
    "sample.target = preds\n",
    "sample.to_csv('20151122_fully_preprocessed_XGB_0011710807.csv', index=False)"
   ]
  },
  {
   "cell_type": "markdown",
   "metadata": {},
   "source": [
    "What does the submission look like now..."
   ]
  },
  {
   "cell_type": "markdown",
   "metadata": {},
   "source": [
    "<img src=\"../files/Screenshot.png\">"
   ]
  },
  {
   "cell_type": "markdown",
   "metadata": {},
   "source": [
    "# 4 Studying feature importance"
   ]
  },
  {
   "cell_type": "code",
   "execution_count": 35,
   "metadata": {
    "collapsed": false
   },
   "outputs": [
    {
     "data": {
      "text/plain": [
       "<matplotlib.axes._subplots.AxesSubplot at 0x197c77190>"
      ]
     },
     "execution_count": 35,
     "metadata": {},
     "output_type": "execute_result"
    },
    {
     "data": {
      "image/png": "[encoded data removed]",
      "text/plain": [
       "<matplotlib.figure.Figure at 0x11935d610>"
      ]
     },
     "metadata": {},
     "output_type": "display_data"
    }
   ],
   "source": [
    "xgb.plot_importance(clf)"
   ]
  },
  {
   "cell_type": "code",
   "execution_count": 36,
   "metadata": {
    "collapsed": false
   },
   "outputs": [],
   "source": [
    "importance = clf.get_fscore()"
   ]
  },
  {
   "cell_type": "code",
   "execution_count": 37,
   "metadata": {
    "collapsed": false
   },
   "outputs": [],
   "source": [
    "df = pd.DataFrame(zip(importance.keys(),importance.values()), columns = ['feature', 'fscore'])\n",
    "df.sort('fscore', ascending=False, inplace=True)"
   ]
  },
  {
   "cell_type": "code",
   "execution_count": 38,
   "metadata": {
    "collapsed": false
   },
   "outputs": [],
   "source": [
    "df['fscore'] = df['fscore'] / df['fscore'].sum()"
   ]
  },
  {
   "cell_type": "code",
   "execution_count": 39,
   "metadata": {
    "collapsed": false
   },
   "outputs": [
    {
     "data": {
      "text/plain": [
       "<matplotlib.axes._subplots.AxesSubplot at 0x14d075110>"
      ]
     },
     "execution_count": 39,
     "metadata": {},
     "output_type": "execute_result"
    },
    {
     "data": {
      "image/png": "[encoded data removed]",
      "text/plain": [
       "<matplotlib.figure.Figure at 0x1471d6e50>"
      ]
     },
     "metadata": {},
     "output_type": "display_data"
    }
   ],
   "source": [
    "import matplotlib.pyplot as plt\n",
    "df[:50].plot(kind='barh', x='feature', y='fscore', legend=False, figsize=(6, 10),\n",
    "             title='XGBoost Feature Importance')"
   ]
  },
  {
   "cell_type": "markdown",
   "metadata": {
    "collapsed": true
   },
   "source": [
    "# 5 Ensemble method resampled from feature importance + LR"
   ]
  },
  {
   "cell_type": "markdown",
   "metadata": {
    "collapsed": true
   },
   "source": [
    "First, making sub-sets of X_test and X using every 5th importance feature"
   ]
  },
  {
   "cell_type": "code",
   "execution_count": 40,
   "metadata": {
    "collapsed": false
   },
   "outputs": [],
   "source": [
    "selectfeat=[[] for _ in range(5)]\n",
    "for i in range(len(importance)):\n",
    "    toadd = df.iat[i,0]\n",
    "    toadd = toadd[1:] #stripping the 'f' from the string\n",
    "    toadd = int(toadd)\n",
    "    selectfeat[i % 5].append(toadd)"
   ]
  },
  {
   "cell_type": "code",
   "execution_count": 41,
   "metadata": {
    "collapsed": false
   },
   "outputs": [],
   "source": [
    "Sub_X_train = [[] for _ in range(5)]\n",
    "Sub_X_test = [[] for _ in range(5)]\n",
    "for i in range(5):\n",
    "    Sub_X_train[i] = X[:, selectfeat[i]]\n",
    "    Sub_X_test[i] = X_test[:, selectfeat[i]]"
   ]
  },
  {
   "cell_type": "markdown",
   "metadata": {
    "collapsed": true
   },
   "source": [
    "Second, building models per selected sub-set"
   ]
  },
  {
   "cell_type": "code",
   "execution_count": 42,
   "metadata": {
    "collapsed": true
   },
   "outputs": [],
   "source": [
    "param = {\"objective\": \"binary:logistic\", \"eta\": 0.01, \"max_depth\": 17, \"min_child_weight\": 1, \n",
    "         \"subsample\": 0.8, \"colsample_bytree\": 0.7,  \n",
    "         \"eval_metric\":\"auc\"} \n",
    "num_rounds = 5000"
   ]
  },
  {
   "cell_type": "code",
   "execution_count": 43,
   "metadata": {
    "collapsed": false
   },
   "outputs": [
    {
     "name": "stdout",
     "output_type": "stream",
     "text": [
      "Start pre-processing data for ensemble method\n",
      "Starting training of  1 /5 model\n",
      "Finished training, saving the model\n",
      "Starting scoring now... first for the test set\n",
      "Writing sub-submission file for test-set\n",
      "Starting scoring now... second for the train set (for training ensemble)\n",
      "Writing sub-submission file for train-set\n",
      "--- Finished writing sub-submission file ---\n",
      "\n",
      "Starting training of  2 /5 model\n",
      "Finished training, saving the model\n",
      "Starting scoring now... first for the test set\n",
      "Writing sub-submission file for test-set\n",
      "Starting scoring now... second for the train set (for training ensemble)\n",
      "Writing sub-submission file for train-set\n",
      "--- Finished writing sub-submission file ---\n",
      "\n",
      "Starting training of  3 /5 model\n",
      "Finished training, saving the model\n",
      "Starting scoring now... first for the test set\n",
      "Writing sub-submission file for test-set\n",
      "Starting scoring now... second for the train set (for training ensemble)\n",
      "Writing sub-submission file for train-set\n",
      "--- Finished writing sub-submission file ---\n",
      "\n",
      "Starting training of  4 /5 model\n",
      "Finished training, saving the model\n",
      "Starting scoring now... first for the test set\n",
      "Writing sub-submission file for test-set\n",
      "Starting scoring now... second for the train set (for training ensemble)\n",
      "Writing sub-submission file for train-set\n",
      "--- Finished writing sub-submission file ---\n",
      "\n",
      "Starting training of  5 /5 model\n",
      "Finished training, saving the model\n",
      "Starting scoring now... first for the test set\n",
      "Writing sub-submission file for test-set\n",
      "Starting scoring now... second for the train set (for training ensemble)\n",
      "Writing sub-submission file for train-set\n",
      "--- Finished writing sub-submission file ---\n",
      "\n"
     ]
    }
   ],
   "source": [
    "print \"Start pre-processing data for ensemble method\"\n",
    "\n",
    "for i in range(5):\n",
    "    \n",
    "    print \"Starting training of \", i+1, \"/5 model\"\n",
    "    dtrain = xgb.DMatrix(Sub_X_train[i], label=y, missing = np.nan)\n",
    "    clf = xgb.train(param, dtrain, num_rounds)\n",
    "    \n",
    "    print \"Finished training, saving the model\"\n",
    "    savename = 'sub_model_' + str(i)\n",
    "    clf.save_model(savename + '.model')\n",
    "    \n",
    "    print \"Starting scoring now... first for the test set\"\n",
    "    dtest = xgb.DMatrix(Sub_X_test[i], missing = np.nan)\n",
    "    preds = clf.predict(dtest)\n",
    "    # print preds[:10]\n",
    "\n",
    "    print \"Writing sub-submission file for test-set\"\n",
    "    sample = pd.read_csv('~/ipython/Kaggle_springleaf/Input/sample_submission.csv')\n",
    "    sample.target = preds\n",
    "    sample.to_csv(savename + '_test.csv', index=False)\n",
    "\n",
    "    print \"Starting scoring now... second for the train set (for training ensemble)\"\n",
    "    dtest = xgb.DMatrix(Sub_X_train[i], missing = np.nan)\n",
    "    preds = clf.predict(dtest)\n",
    "    # print preds[:10]\n",
    "    \n",
    "    print \"Writing sub-submission file for train-set\"\n",
    "    sample = pd.Series(preds)\n",
    "    sample.to_csv(savename + '_train.csv', index=False)\n",
    "\n",
    "    print \"--- Finished writing sub-submission file ---\"\n",
    "    print"
   ]
  },
  {
   "cell_type": "markdown",
   "metadata": {},
   "source": [
    "## LR ensemble method\n",
    "\n",
    "Building a LR model on these scores"
   ]
  },
  {
   "cell_type": "code",
   "execution_count": 44,
   "metadata": {
    "collapsed": false
   },
   "outputs": [],
   "source": [
    "df_scores = pd.DataFrame([])\n",
    "\n",
    "for i in range(5):\n",
    "    loadname = 'sub_model_' + str(i)\n",
    "    scoreset = pd.read_csv(loadname + '_train.csv', header=None)\n",
    "    df_scores[loadname] = scoreset[0]"
   ]
  },
  {
   "cell_type": "code",
   "execution_count": 45,
   "metadata": {
    "collapsed": true
   },
   "outputs": [],
   "source": [
    "from sklearn import metrics\n",
    "from sklearn.linear_model import LogisticRegression\n",
    "model = LogisticRegression()"
   ]
  },
  {
   "cell_type": "code",
   "execution_count": 46,
   "metadata": {
    "collapsed": false
   },
   "outputs": [
    {
     "name": "stdout",
     "output_type": "stream",
     "text": [
      "LogisticRegression(C=1.0, class_weight=None, dual=False, fit_intercept=True,\n",
      "          intercept_scaling=1, max_iter=100, multi_class='ovr',\n",
      "          penalty='l2', random_state=None, solver='liblinear', tol=0.0001,\n",
      "          verbose=0)\n"
     ]
    }
   ],
   "source": [
    "X = np.array(df_scores)\n",
    "model.fit(X, y)\n",
    "print(model)"
   ]
  },
  {
   "cell_type": "code",
   "execution_count": 47,
   "metadata": {
    "collapsed": false
   },
   "outputs": [
    {
     "name": "stdout",
     "output_type": "stream",
     "text": [
      "             precision    recall  f1-score   support\n",
      "\n",
      "          0       1.00      1.00      1.00    111458\n",
      "          1       1.00      1.00      1.00     33773\n",
      "\n",
      "avg / total       1.00      1.00      1.00    145231\n",
      "\n",
      "[[111458      0]\n",
      " [     0  33773]]\n"
     ]
    }
   ],
   "source": [
    "# make predictions\n",
    "expected = y\n",
    "predicted = model.predict(X)\n",
    "# summarize the fit of the model\n",
    "print(metrics.classification_report(expected, predicted))\n",
    "print(metrics.confusion_matrix(expected, predicted))"
   ]
  },
  {
   "cell_type": "code",
   "execution_count": 48,
   "metadata": {
    "collapsed": false
   },
   "outputs": [
    {
     "name": "stdout",
     "output_type": "stream",
     "text": [
      "[[ 3.67858611  3.67806815  3.6797211   3.68293876  3.67657941]]\n"
     ]
    }
   ],
   "source": [
    "# Study coefficients\n",
    "print model.coef_"
   ]
  },
  {
   "cell_type": "markdown",
   "metadata": {},
   "source": [
    "Surpising to see that the models hardly differ from eachother... XGBoost tree (model 0) doesn't seem to get a different weight from the LR"
   ]
  },
  {
   "cell_type": "markdown",
   "metadata": {},
   "source": [
    "Now, using the LR model to predict the scores for the final submission"
   ]
  },
  {
   "cell_type": "code",
   "execution_count": 49,
   "metadata": {
    "collapsed": false
   },
   "outputs": [],
   "source": [
    "df_scores = pd.read_csv('~/ipython/Kaggle_springleaf/Input/sample_submission.csv')\n",
    "\n",
    "for i in range(5):\n",
    "    loadname = 'sub_model_' + str(i)\n",
    "    scoreset = pd.read_csv(loadname + '_test.csv')\n",
    "    df_scores[loadname] = scoreset['target']\n",
    "\n",
    "df_scores['target'] = model.predict_proba(np.array(df_scores.loc[:,'sub_model_0':'sub_model_4']))[:,1]"
   ]
  },
  {
   "cell_type": "code",
   "execution_count": 50,
   "metadata": {
    "collapsed": false
   },
   "outputs": [
    {
     "data": {
      "text/html": [
       "<div>\n",
       "<table border=\"1\" class=\"dataframe\">\n",
       "  <thead>\n",
       "    <tr style=\"text-align: right;\">\n",
       "      <th></th>\n",
       "      <th>ID</th>\n",
       "      <th>target</th>\n",
       "      <th>sub_model_0</th>\n",
       "      <th>sub_model_1</th>\n",
       "      <th>sub_model_2</th>\n",
       "      <th>sub_model_3</th>\n",
       "      <th>sub_model_4</th>\n",
       "    </tr>\n",
       "  </thead>\n",
       "  <tbody>\n",
       "    <tr>\n",
       "      <th>0</th>\n",
       "      <td>1</td>\n",
       "      <td>0.004073</td>\n",
       "      <td>0.152743</td>\n",
       "      <td>0.088854</td>\n",
       "      <td>0.217017</td>\n",
       "      <td>0.199954</td>\n",
       "      <td>0.313686</td>\n",
       "    </tr>\n",
       "    <tr>\n",
       "      <th>1</th>\n",
       "      <td>3</td>\n",
       "      <td>0.011421</td>\n",
       "      <td>0.155306</td>\n",
       "      <td>0.128429</td>\n",
       "      <td>0.380673</td>\n",
       "      <td>0.239579</td>\n",
       "      <td>0.350517</td>\n",
       "    </tr>\n",
       "    <tr>\n",
       "      <th>2</th>\n",
       "      <td>6</td>\n",
       "      <td>0.000498</td>\n",
       "      <td>0.116180</td>\n",
       "      <td>0.044023</td>\n",
       "      <td>0.157233</td>\n",
       "      <td>0.034223</td>\n",
       "      <td>0.048171</td>\n",
       "    </tr>\n",
       "    <tr>\n",
       "      <th>3</th>\n",
       "      <td>9</td>\n",
       "      <td>0.000430</td>\n",
       "      <td>0.142404</td>\n",
       "      <td>0.098406</td>\n",
       "      <td>0.009266</td>\n",
       "      <td>0.094508</td>\n",
       "      <td>0.015489</td>\n",
       "    </tr>\n",
       "    <tr>\n",
       "      <th>4</th>\n",
       "      <td>10</td>\n",
       "      <td>0.997921</td>\n",
       "      <td>0.813419</td>\n",
       "      <td>0.885503</td>\n",
       "      <td>0.683390</td>\n",
       "      <td>0.953170</td>\n",
       "      <td>0.809435</td>\n",
       "    </tr>\n",
       "  </tbody>\n",
       "</table>\n",
       "</div>"
      ],
      "text/plain": [
       "   ID    target  sub_model_0  sub_model_1  sub_model_2  sub_model_3  \\\n",
       "0   1  0.004073     0.152743     0.088854     0.217017     0.199954   \n",
       "1   3  0.011421     0.155306     0.128429     0.380673     0.239579   \n",
       "2   6  0.000498     0.116180     0.044023     0.157233     0.034223   \n",
       "3   9  0.000430     0.142404     0.098406     0.009266     0.094508   \n",
       "4  10  0.997921     0.813419     0.885503     0.683390     0.953170   \n",
       "\n",
       "   sub_model_4  \n",
       "0     0.313686  \n",
       "1     0.350517  \n",
       "2     0.048171  \n",
       "3     0.015489  \n",
       "4     0.809435  "
      ]
     },
     "execution_count": 50,
     "metadata": {},
     "output_type": "execute_result"
    }
   ],
   "source": [
    "df_scores.head(5)"
   ]
  },
  {
   "cell_type": "markdown",
   "metadata": {},
   "source": [
    "Writing the submission file"
   ]
  },
  {
   "cell_type": "code",
   "execution_count": 51,
   "metadata": {
    "collapsed": true
   },
   "outputs": [],
   "source": [
    "sample = pd.read_csv('~/ipython/Kaggle_springleaf/Input/sample_submission.csv')\n",
    "sample.target = df_scores['target']\n",
    "sample.to_csv('20151122_LR_ensemble_model.csv', index=False)"
   ]
  },
  {
   "cell_type": "markdown",
   "metadata": {},
   "source": [
    "## Trying Adaboost as ensemble method"
   ]
  },
  {
   "cell_type": "code",
   "execution_count": 52,
   "metadata": {
    "collapsed": true
   },
   "outputs": [],
   "source": [
    "from sklearn.ensemble import AdaBoostClassifier"
   ]
  },
  {
   "cell_type": "code",
   "execution_count": 53,
   "metadata": {
    "collapsed": true
   },
   "outputs": [],
   "source": [
    "df_scores = pd.DataFrame([])\n",
    "\n",
    "for i in range(5):\n",
    "    loadname = 'sub_model_' + str(i)\n",
    "    scoreset = pd.read_csv(loadname + '_train.csv', header=None)\n",
    "    df_scores[loadname] = scoreset[0]"
   ]
  },
  {
   "cell_type": "code",
   "execution_count": 54,
   "metadata": {
    "collapsed": true
   },
   "outputs": [],
   "source": [
    "model = AdaBoostClassifier(n_estimators=1000)"
   ]
  },
  {
   "cell_type": "code",
   "execution_count": 55,
   "metadata": {
    "collapsed": false
   },
   "outputs": [
    {
     "name": "stdout",
     "output_type": "stream",
     "text": [
      "AdaBoostClassifier(algorithm='SAMME.R', base_estimator=None,\n",
      "          learning_rate=1.0, n_estimators=1000, random_state=None)\n"
     ]
    }
   ],
   "source": [
    "X = np.array(df_scores)\n",
    "model.fit(X, y)\n",
    "print(model)"
   ]
  },
  {
   "cell_type": "markdown",
   "metadata": {},
   "source": [
    "Now reading in the test-scores to make the ensemble"
   ]
  },
  {
   "cell_type": "code",
   "execution_count": 56,
   "metadata": {
    "collapsed": true
   },
   "outputs": [],
   "source": [
    "df_scores = pd.read_csv('~/ipython/Kaggle_springleaf/Input/sample_submission.csv')\n",
    "\n",
    "for i in range(5):\n",
    "    loadname = 'sub_model_' + str(i)\n",
    "    scoreset = pd.read_csv(loadname + '_test.csv')\n",
    "    df_scores[loadname] = scoreset['target']\n",
    "\n",
    "df_scores['target'] = model.predict_proba(np.array(df_scores.loc[:,'sub_model_0':'sub_model_4']))[:,1]"
   ]
  },
  {
   "cell_type": "code",
   "execution_count": 57,
   "metadata": {
    "collapsed": true
   },
   "outputs": [],
   "source": [
    "sample = pd.read_csv('~/ipython/Kaggle_springleaf/Input/sample_submission.csv')\n",
    "sample.target = df_scores['target']\n",
    "sample.to_csv('20151122_AdaBoost_ensemble_model.csv', index=False)"
   ]
  },
  {
   "cell_type": "markdown",
   "metadata": {},
   "source": [
    "# 6 Final scores"
   ]
  },
  {
   "cell_type": "markdown",
   "metadata": {},
   "source": [
    "Final scores"
   ]
  },
  {
   "cell_type": "markdown",
   "metadata": {},
   "source": [
    "* Model with very limited preprocessing (original code): 0.80169 / 0.79706"
   ]
  },
  {
   "cell_type": "markdown",
   "metadata": {},
   "source": [
    "* Single model with extensive preprocessing: 0.80170 / 0.79734"
   ]
  },
  {
   "cell_type": "markdown",
   "metadata": {},
   "source": [
    "* Ensemble model based on LR: 0.79754 / 0.79305"
   ]
  },
  {
   "cell_type": "markdown",
   "metadata": {},
   "source": [
    "* Ensemble model based on Adaboost: 0.62359 / 0.61730"
   ]
  },
  {
   "cell_type": "markdown",
   "metadata": {},
   "source": [
    "* Simple LR model (hashing trick, not documented above): 0.77355 / 0.76739"
   ]
  },
  {
   "cell_type": "markdown",
   "metadata": {},
   "source": [
    "# 7 Conclusions"
   ]
  },
  {
   "cell_type": "markdown",
   "metadata": {
    "collapsed": true
   },
   "source": [
    "XGBoost proved to be a very powerful algorithm for this problem."
   ]
  },
  {
   "cell_type": "markdown",
   "metadata": {
    "collapsed": true
   },
   "source": [
    "Preprocessing the data proved to be less valuable for this case. Developing features by interpreting the data-fields (time stamps, clusters, etc.) did not add much to the AUC score."
   ]
  },
  {
   "cell_type": "markdown",
   "metadata": {},
   "source": [
    "Parameter tuning turned out to be adding somewhat to the AUC score, albeit marginal (differences in the order of 10 places, e.g. <0.01 in terms of AUC score)"
   ]
  },
  {
   "cell_type": "markdown",
   "metadata": {},
   "source": [
    "Developing an ensemble model based on multiple XGBoost classifiers which were well trained, did not improve the score. If the models were 'undertrained' (not enough trees), ensembling them did help. However, the score of the ensemble never came above the well trained single model."
   ]
  },
  {
   "cell_type": "markdown",
   "metadata": {
    "collapsed": true
   },
   "source": [
    "# 8 Suggested further steps:\n",
    "\n",
    "## Data preprocessing\n",
    "* Insert score from LR with hashing trick (now planned for the ensemble part)\n",
    "\n",
    "\n",
    "## Tuning\n",
    "\n",
    "Parameter tuning could help to improve the score somewhat furhter\n",
    "* Run with more num_rounds\n",
    "* Use other treshold for 2000 in dropna\n",
    "* Grid search on performance\n",
    "* Other parameters suggested:\n",
    "    * {\"objective\": \"binary:logistic\", \"eta\": 0.015, \"max_depth\": 22, \"min_child_weight\": 3, \"subsample\": 0.7, \"colsample_bytree\": 0.7, \"seed\": 231, \"eval_metric\":\"auc\"} num_rounds = 2125\n",
    "    * {objective = \"binary:logistic\", eta = 0.0025, max_depth = 15, subsample = 0.7, colsample_bytree = 0.5, min_child_weight = 4, eval_metric = \"auc\", alpha = 1)\n",
    "\n",
    "\n",
    "## Ensemble tries\n",
    "\n",
    "Especially ensembles from multiple types of models might help to improve the score.\n",
    "* Use leaf nodes from XGBoost with FM (using Spark cluster)\n"
   ]
  },
  {
   "cell_type": "markdown",
   "metadata": {
    "collapsed": true
   },
   "source": [
    "<b> As both the parameter tuning and the ensemble models require a large amount of processing power, I will try this after finishing the Spark training. </b>"
   ]
  },
  {
   "cell_type": "code",
   "execution_count": null,
   "metadata": {
    "collapsed": true
   },
   "outputs": [],
   "source": []
  }
 ],
 "metadata": {
  "kernelspec": {
   "display_name": "Python 2",
   "language": "python",
   "name": "python2"
  },
  "language_info": {
   "codemirror_mode": {
    "name": "ipython",
    "version": 2
   },
   "file_extension": ".py",
   "mimetype": "text/x-python",
   "name": "python",
   "nbconvert_exporter": "python",
   "pygments_lexer": "ipython2",
   "version": "2.7.10"
  }
 },
 "nbformat": 4,
 "nbformat_minor": 0
}
